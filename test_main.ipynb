{
 "cells": [
  {
   "cell_type": "code",
   "execution_count": 1,
   "metadata": {},
   "outputs": [],
   "source": [
    "from kspec_metrology.exposure.mtlexp import mtlexp\n",
    "from kspec_metrology.analysis.mtlcal import mtlcal"
   ]
  },
  {
   "cell_type": "code",
   "execution_count": 2,
   "metadata": {},
   "outputs": [
    {
     "name": "stdout",
     "output_type": "stream",
     "text": [
      "/home/dkkim/test\n"
     ]
    },
    {
     "name": "stderr",
     "output_type": "stream",
     "text": [
      "-- qhyccd.cpp param\n",
      "QHYCCD|QHYCCD.CPP|InitQHYCCDResource()|START\n",
      "QHYCCD|QHYCCD.CPP|InitQHYCCDResource|auto_detect_camera:false,call InitQHYCCDResourceInside\n",
      "QHYCCD|QHYCCD.CPP|InitQHYCCDResourceInside|START\n",
      "QHYCCD|QHYCCD.CPP|libusb_version 1.0.25.11696\n",
      "QHYCCD|QHYCCD.CPP|libusb_init(libqhyccd_context) called...\n",
      "QHYCCD|QHYCCD.CPP|InitQHYCCDResourceInside|numdev set to 0\n",
      "QHYCCD|QHYCCD.CPP|InitQHYCCDResourceInside|END\n",
      "************************** config file path  23.10.11.13 svn: 13305  ************************************\n",
      "QHYCCD|QHYCCD.CPP|InitQHYCCDResource|Load ini filePath = /home/dkkim/test/kspec_metrology  fileName = qhyccd.ini\n"
     ]
    },
    {
     "name": "stdout",
     "output_type": "stream",
     "text": [
      "No Camera Connected\n"
     ]
    },
    {
     "ename": "SystemExit",
     "evalue": "",
     "output_type": "error",
     "traceback": [
      "An exception has occurred, use %tb to see the full traceback.\n",
      "\u001b[0;31mSystemExit\u001b[0m\n"
     ]
    },
    {
     "name": "stderr",
     "output_type": "stream",
     "text": [
      "/home/dkkim/.local/lib/python3.10/site-packages/IPython/core/interactiveshell.py:3585: UserWarning: To exit: use 'exit', 'quit', or Ctrl-D.\n",
      "  warn(\"To exit: use 'exit', 'quit', or Ctrl-D.\", stacklevel=1)\n"
     ]
    }
   ],
   "source": [
    "mtlexp(10)"
   ]
  },
  {
   "cell_type": "code",
   "execution_count": 2,
   "metadata": {},
   "outputs": [],
   "source": [
    "dx, dy = mtlcal()"
   ]
  }
 ],
 "metadata": {
  "kernelspec": {
   "display_name": "Python 3 (ipykernel)",
   "language": "python",
   "name": "python3"
  },
  "language_info": {
   "codemirror_mode": {
    "name": "ipython",
    "version": 3
   },
   "file_extension": ".py",
   "mimetype": "text/x-python",
   "name": "python",
   "nbconvert_exporter": "python",
   "pygments_lexer": "ipython3",
   "version": "3.10.12"
  }
 },
 "nbformat": 4,
 "nbformat_minor": 4
}
